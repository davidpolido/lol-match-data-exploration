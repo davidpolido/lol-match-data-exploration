{
 "cells": [
  {
   "cell_type": "markdown",
   "metadata": {},
   "source": [
    "# LoL Stats Visualization"
   ]
  },
  {
   "cell_type": "code",
   "execution_count": 1,
   "metadata": {},
   "outputs": [],
   "source": [
    "import backend.downloader as dl\n",
    "import backend.assets as assets\n",
    "import backend.db as db\n",
    "import pandas as pd\n",
    "import altair as alt"
   ]
  },
  {
   "source": [
    "## Download data"
   ],
   "cell_type": "markdown",
   "metadata": {}
  },
  {
   "cell_type": "code",
   "execution_count": 2,
   "metadata": {},
   "outputs": [
    {
     "output_type": "stream",
     "name": "stdout",
     "text": [
      "DB connection created.\n",
      "Downloaded Summoner profile(s).\n",
      "Downloaded 779 match ids for 'Helikk'.\n",
      "Downloaded 1471 match ids for 'Marcosalome'.\n",
      "Downloaded 1279 match ids for 'smallfatant'.\n",
      "Downloaded 601 match ids for 'Vempramim'.\n",
      "Downloaded 3224 match ids for 'Raketes'.\n",
      "Downloaded 316 match ids for 'Raketex'.\n",
      "Downloaded 1945 match ids for 'MadameTripas'.\n",
      "Total downloaded match ids: 9615.\n",
      "Read 7816 lines from 'match_details' table in DB.\n",
      "Compared DB with downloaded data: 35 new matches found.\n",
      "Getting data on 35 matches.\n",
      "name 'ApiError' is not defined\n",
      "Error in match #34 (id: <4955629649)>.\n",
      "Finished processing 35 matches.\n",
      "Data on 35 matches downloaded.\n",
      "DB connection closed.\n"
     ]
    }
   ],
   "source": [
    "SUMMONERS = [\"Helikk\", \"marcosalome\", \"smallfatant\", \"Vempramim\", \"Raketes\", \"Raketex\", \"MadameTripas\"]\n",
    "dl.get_data(SUMMONERS)"
   ]
  },
  {
   "cell_type": "code",
   "execution_count": 13,
   "metadata": {},
   "outputs": [
    {
     "output_type": "stream",
     "name": "stdout",
     "text": [
      "DB connection created.\n",
      "Read 7851 lines from 'match_details' table in DB.\n",
      "Read 15702 lines from 'teams' table in DB.\n",
      "Read 78502 lines from 'participants' table in DB.\n",
      "Read 78502 lines from 'participant_identities' table in DB.\n",
      "DB connection closed.\n"
     ]
    }
   ],
   "source": [
    "conn = db.create_connection(\"./backend/db/normalized.db\")\n",
    "md = db.read_full_table(conn, \"match_details\")\n",
    "t = db.read_full_table(conn, \"teams\")\n",
    "p = db.read_full_table(conn, \"participants\")\n",
    "pi = db.read_full_table(conn, \"participant_identities\")\n",
    "db.close_connection(conn)"
   ]
  },
  {
   "cell_type": "code",
   "execution_count": 14,
   "metadata": {},
   "outputs": [
    {
     "output_type": "stream",
     "name": "stdout",
     "text": [
      "DB connection created.\nRead 152 lines from 'champions' table in DB.\nRead 80 lines from 'queues' table in DB.\nDB connection closed.\n"
     ]
    }
   ],
   "source": [
    "aconn = db.create_connection(\"./backend/db/assets.sqlite\")\n",
    "c = db.read_full_table(aconn, \"champions\")\n",
    "q = db.read_full_table(aconn, \"queues\")\n",
    "db.close_connection(aconn)"
   ]
  },
  {
   "cell_type": "code",
   "execution_count": 15,
   "metadata": {},
   "outputs": [],
   "source": [
    "df = pd.merge(p, c, on=[\"championId\"])\n",
    "df = pd.merge(df, md, on=[\"gameId\"])\n",
    "df = pd.merge(df, q, on=[\"queueId\"])\n",
    "df = pd.merge(df, pi, on=[\"gameId\", \"participantId\"])\n",
    "df.columns = df.columns.str.replace(\".\", \"_\")"
   ]
  },
  {
   "cell_type": "code",
   "execution_count": 16,
   "metadata": {},
   "outputs": [
    {
     "output_type": "execute_result",
     "data": {
      "text/plain": [
       "       participantId  teamId  championId  spell1Id  spell2Id      gameId  \\\n",
       "0                  1     100          99         4        12  4953382523   \n",
       "1                  2     100         121        11         4  4953382523   \n",
       "2                  3     100          12         4        12  4953382523   \n",
       "3                 10     200          12         0         0  4953382523   \n",
       "4                  4     100         412        14         4  4953382523   \n",
       "...              ...     ...         ...       ...       ...         ...   \n",
       "78367             10     200          89         0         0  4942070868   \n",
       "78368              4     100          23         4        12  4942070868   \n",
       "78369              5     100         518         3        12  4942070868   \n",
       "78370              7     200          19         0         0  4942070868   \n",
       "78371              9     200          44         0         0  4942070868   \n",
       "\n",
       "       stats_participantId  stats_win  stats_item0  stats_item1  ...  \\\n",
       "0                        1          1         3041         1058  ...   \n",
       "1                        2          1         6691         2031  ...   \n",
       "2                        3          1         1054         3152  ...   \n",
       "3                       10          0         3860         3009  ...   \n",
       "4                        4          1         1055         6671  ...   \n",
       "...                    ...        ...          ...          ...  ...   \n",
       "78367                   10          0         3860         3009  ...   \n",
       "78368                    4          1         1038         6672  ...   \n",
       "78369                    5          1         2423         3111  ...   \n",
       "78370                    7          0         1055         1001  ...   \n",
       "78371                    9          0         3859         1001  ...   \n",
       "\n",
       "                                     queue  player_platformId  \\\n",
       "0      Co-op vs. AI Intermediate Bot games               EUW1   \n",
       "1      Co-op vs. AI Intermediate Bot games               EUW1   \n",
       "2      Co-op vs. AI Intermediate Bot games               EUW1   \n",
       "3      Co-op vs. AI Intermediate Bot games                      \n",
       "4      Co-op vs. AI Intermediate Bot games               EUW1   \n",
       "...                                    ...                ...   \n",
       "78367      Co-op vs. AI Beginner Bot games                      \n",
       "78368      Co-op vs. AI Beginner Bot games               EUW1   \n",
       "78369      Co-op vs. AI Beginner Bot games               EUW1   \n",
       "78370      Co-op vs. AI Beginner Bot games                      \n",
       "78371      Co-op vs. AI Beginner Bot games                      \n",
       "\n",
       "                                        player_accountId  player_summonerName  \\\n",
       "0        DI0sm3UglRUWDjJtYB434V2-mfYzY6TkwUfHs0qKcEsQkNw        Astro Defense   \n",
       "1      mcyBQoNC7cSKWUejhRSSMCRetMNHYWgTR8M64_dXkkT3gP...            Tagrosso0   \n",
       "2         EJQfVTIvnTdaam-Lcn1yp9r2X7QJc1NlOwz5Xj60oVEPNw          smallfatant   \n",
       "3                                                      0              Alistar   \n",
       "4        -ZpYmpIz2Kqfy84WUgs8i7WPL1iGr37Qrjl3EAbvMTbQPBc               Helikk   \n",
       "...                                                  ...                  ...   \n",
       "78367                                                  0                Leona   \n",
       "78368     EJQfVTIvnTdaam-Lcn1yp9r2X7QJc1NlOwz5Xj60oVEPNw          smallfatant   \n",
       "78369  x5ERY4ihcqvi8Cx91WdESrZ9paxdmNpClSP5Lx6Mi_VM-g...                pjigc   \n",
       "78370                                                  0              Warwick   \n",
       "78371                                                  0                Taric   \n",
       "\n",
       "                                       player_summonerId  \\\n",
       "0        F7SxJvnJxwkPuPFVoVUdLrd9h1C9Li3bA4bjrMouSjpS_us   \n",
       "1      2aVKkVj8F7IcV_-g9FBoL3oOKQWBaJq4Yc-6VWWTMMtFXF...   \n",
       "2        apc74Qh1EZ9YEIOU9ArIeown83KzV3Ebv5mi717QyMlyV7Y   \n",
       "3                                                   None   \n",
       "4        4m6VdaCefu0AXMPmPpXg7RjVqRb-OiEPenLGmSoju0lHjgE   \n",
       "...                                                  ...   \n",
       "78367                                               None   \n",
       "78368    apc74Qh1EZ9YEIOU9ArIeown83KzV3Ebv5mi717QyMlyV7Y   \n",
       "78369  n0Q3VsDGRZzkMFWvQeDpThhO098fJi0Pge7ThCTahEFI0w...   \n",
       "78370                                               None   \n",
       "78371                                               None   \n",
       "\n",
       "       player_currentPlatformId  \\\n",
       "0                          EUW1   \n",
       "1                          EUW1   \n",
       "2                          EUW1   \n",
       "3                          EUW1   \n",
       "4                          EUW1   \n",
       "...                         ...   \n",
       "78367                      EUW1   \n",
       "78368                      EUW1   \n",
       "78369                      EUW1   \n",
       "78370                      EUW1   \n",
       "78371                      EUW1   \n",
       "\n",
       "                                 player_currentAccountId  \\\n",
       "0        DI0sm3UglRUWDjJtYB434V2-mfYzY6TkwUfHs0qKcEsQkNw   \n",
       "1      mcyBQoNC7cSKWUejhRSSMCRetMNHYWgTR8M64_dXkkT3gP...   \n",
       "2         EJQfVTIvnTdaam-Lcn1yp9r2X7QJc1NlOwz5Xj60oVEPNw   \n",
       "3                                                      0   \n",
       "4        -ZpYmpIz2Kqfy84WUgs8i7WPL1iGr37Qrjl3EAbvMTbQPBc   \n",
       "...                                                  ...   \n",
       "78367                                                  0   \n",
       "78368     EJQfVTIvnTdaam-Lcn1yp9r2X7QJc1NlOwz5Xj60oVEPNw   \n",
       "78369  x5ERY4ihcqvi8Cx91WdESrZ9paxdmNpClSP5Lx6Mi_VM-g...   \n",
       "78370                                                  0   \n",
       "78371                                                  0   \n",
       "\n",
       "                               player_matchHistoryUri  player_profileIcon  \\\n",
       "0             /v1/stats/player_history/EUW1/204426654                4508   \n",
       "1      /v1/stats/player_history/EUW1/2598048272311488                   1   \n",
       "2              /v1/stats/player_history/EUW1/39539715                4607   \n",
       "3                         /v1/stats/player_history//0                   0   \n",
       "4             /v1/stats/player_history/EUW1/203411224                1437   \n",
       "...                                               ...                 ...   \n",
       "78367                     /v1/stats/player_history//0                   0   \n",
       "78368          /v1/stats/player_history/EUW1/39539715                4607   \n",
       "78369  /v1/stats/player_history/EUW1/2567624771396928                3545   \n",
       "78370                     /v1/stats/player_history//0                   0   \n",
       "78371                     /v1/stats/player_history//0                   0   \n",
       "\n",
       "                     datetime  \n",
       "0     2020-11-29 00:11:23.261  \n",
       "1     2020-11-29 00:11:23.261  \n",
       "2     2020-11-29 00:11:23.261  \n",
       "3     2020-11-29 00:11:23.261  \n",
       "4     2020-11-29 00:11:23.261  \n",
       "...                       ...  \n",
       "78367 2020-11-22 13:34:51.578  \n",
       "78368 2020-11-22 13:34:51.578  \n",
       "78369 2020-11-22 13:34:51.578  \n",
       "78370 2020-11-22 13:34:51.578  \n",
       "78371 2020-11-22 13:34:51.578  \n",
       "\n",
       "[78372 rows x 163 columns]"
      ],
      "text/html": "<div>\n<style scoped>\n    .dataframe tbody tr th:only-of-type {\n        vertical-align: middle;\n    }\n\n    .dataframe tbody tr th {\n        vertical-align: top;\n    }\n\n    .dataframe thead th {\n        text-align: right;\n    }\n</style>\n<table border=\"1\" class=\"dataframe\">\n  <thead>\n    <tr style=\"text-align: right;\">\n      <th></th>\n      <th>participantId</th>\n      <th>teamId</th>\n      <th>championId</th>\n      <th>spell1Id</th>\n      <th>spell2Id</th>\n      <th>gameId</th>\n      <th>stats_participantId</th>\n      <th>stats_win</th>\n      <th>stats_item0</th>\n      <th>stats_item1</th>\n      <th>...</th>\n      <th>queue</th>\n      <th>player_platformId</th>\n      <th>player_accountId</th>\n      <th>player_summonerName</th>\n      <th>player_summonerId</th>\n      <th>player_currentPlatformId</th>\n      <th>player_currentAccountId</th>\n      <th>player_matchHistoryUri</th>\n      <th>player_profileIcon</th>\n      <th>datetime</th>\n    </tr>\n  </thead>\n  <tbody>\n    <tr>\n      <th>0</th>\n      <td>1</td>\n      <td>100</td>\n      <td>99</td>\n      <td>4</td>\n      <td>12</td>\n      <td>4953382523</td>\n      <td>1</td>\n      <td>1</td>\n      <td>3041</td>\n      <td>1058</td>\n      <td>...</td>\n      <td>Co-op vs. AI Intermediate Bot games</td>\n      <td>EUW1</td>\n      <td>DI0sm3UglRUWDjJtYB434V2-mfYzY6TkwUfHs0qKcEsQkNw</td>\n      <td>Astro Defense</td>\n      <td>F7SxJvnJxwkPuPFVoVUdLrd9h1C9Li3bA4bjrMouSjpS_us</td>\n      <td>EUW1</td>\n      <td>DI0sm3UglRUWDjJtYB434V2-mfYzY6TkwUfHs0qKcEsQkNw</td>\n      <td>/v1/stats/player_history/EUW1/204426654</td>\n      <td>4508</td>\n      <td>2020-11-29 00:11:23.261</td>\n    </tr>\n    <tr>\n      <th>1</th>\n      <td>2</td>\n      <td>100</td>\n      <td>121</td>\n      <td>11</td>\n      <td>4</td>\n      <td>4953382523</td>\n      <td>2</td>\n      <td>1</td>\n      <td>6691</td>\n      <td>2031</td>\n      <td>...</td>\n      <td>Co-op vs. AI Intermediate Bot games</td>\n      <td>EUW1</td>\n      <td>mcyBQoNC7cSKWUejhRSSMCRetMNHYWgTR8M64_dXkkT3gP...</td>\n      <td>Tagrosso0</td>\n      <td>2aVKkVj8F7IcV_-g9FBoL3oOKQWBaJq4Yc-6VWWTMMtFXF...</td>\n      <td>EUW1</td>\n      <td>mcyBQoNC7cSKWUejhRSSMCRetMNHYWgTR8M64_dXkkT3gP...</td>\n      <td>/v1/stats/player_history/EUW1/2598048272311488</td>\n      <td>1</td>\n      <td>2020-11-29 00:11:23.261</td>\n    </tr>\n    <tr>\n      <th>2</th>\n      <td>3</td>\n      <td>100</td>\n      <td>12</td>\n      <td>4</td>\n      <td>12</td>\n      <td>4953382523</td>\n      <td>3</td>\n      <td>1</td>\n      <td>1054</td>\n      <td>3152</td>\n      <td>...</td>\n      <td>Co-op vs. AI Intermediate Bot games</td>\n      <td>EUW1</td>\n      <td>EJQfVTIvnTdaam-Lcn1yp9r2X7QJc1NlOwz5Xj60oVEPNw</td>\n      <td>smallfatant</td>\n      <td>apc74Qh1EZ9YEIOU9ArIeown83KzV3Ebv5mi717QyMlyV7Y</td>\n      <td>EUW1</td>\n      <td>EJQfVTIvnTdaam-Lcn1yp9r2X7QJc1NlOwz5Xj60oVEPNw</td>\n      <td>/v1/stats/player_history/EUW1/39539715</td>\n      <td>4607</td>\n      <td>2020-11-29 00:11:23.261</td>\n    </tr>\n    <tr>\n      <th>3</th>\n      <td>10</td>\n      <td>200</td>\n      <td>12</td>\n      <td>0</td>\n      <td>0</td>\n      <td>4953382523</td>\n      <td>10</td>\n      <td>0</td>\n      <td>3860</td>\n      <td>3009</td>\n      <td>...</td>\n      <td>Co-op vs. AI Intermediate Bot games</td>\n      <td></td>\n      <td>0</td>\n      <td>Alistar</td>\n      <td>None</td>\n      <td>EUW1</td>\n      <td>0</td>\n      <td>/v1/stats/player_history//0</td>\n      <td>0</td>\n      <td>2020-11-29 00:11:23.261</td>\n    </tr>\n    <tr>\n      <th>4</th>\n      <td>4</td>\n      <td>100</td>\n      <td>412</td>\n      <td>14</td>\n      <td>4</td>\n      <td>4953382523</td>\n      <td>4</td>\n      <td>1</td>\n      <td>1055</td>\n      <td>6671</td>\n      <td>...</td>\n      <td>Co-op vs. AI Intermediate Bot games</td>\n      <td>EUW1</td>\n      <td>-ZpYmpIz2Kqfy84WUgs8i7WPL1iGr37Qrjl3EAbvMTbQPBc</td>\n      <td>Helikk</td>\n      <td>4m6VdaCefu0AXMPmPpXg7RjVqRb-OiEPenLGmSoju0lHjgE</td>\n      <td>EUW1</td>\n      <td>-ZpYmpIz2Kqfy84WUgs8i7WPL1iGr37Qrjl3EAbvMTbQPBc</td>\n      <td>/v1/stats/player_history/EUW1/203411224</td>\n      <td>1437</td>\n      <td>2020-11-29 00:11:23.261</td>\n    </tr>\n    <tr>\n      <th>...</th>\n      <td>...</td>\n      <td>...</td>\n      <td>...</td>\n      <td>...</td>\n      <td>...</td>\n      <td>...</td>\n      <td>...</td>\n      <td>...</td>\n      <td>...</td>\n      <td>...</td>\n      <td>...</td>\n      <td>...</td>\n      <td>...</td>\n      <td>...</td>\n      <td>...</td>\n      <td>...</td>\n      <td>...</td>\n      <td>...</td>\n      <td>...</td>\n      <td>...</td>\n      <td>...</td>\n    </tr>\n    <tr>\n      <th>78367</th>\n      <td>10</td>\n      <td>200</td>\n      <td>89</td>\n      <td>0</td>\n      <td>0</td>\n      <td>4942070868</td>\n      <td>10</td>\n      <td>0</td>\n      <td>3860</td>\n      <td>3009</td>\n      <td>...</td>\n      <td>Co-op vs. AI Beginner Bot games</td>\n      <td></td>\n      <td>0</td>\n      <td>Leona</td>\n      <td>None</td>\n      <td>EUW1</td>\n      <td>0</td>\n      <td>/v1/stats/player_history//0</td>\n      <td>0</td>\n      <td>2020-11-22 13:34:51.578</td>\n    </tr>\n    <tr>\n      <th>78368</th>\n      <td>4</td>\n      <td>100</td>\n      <td>23</td>\n      <td>4</td>\n      <td>12</td>\n      <td>4942070868</td>\n      <td>4</td>\n      <td>1</td>\n      <td>1038</td>\n      <td>6672</td>\n      <td>...</td>\n      <td>Co-op vs. AI Beginner Bot games</td>\n      <td>EUW1</td>\n      <td>EJQfVTIvnTdaam-Lcn1yp9r2X7QJc1NlOwz5Xj60oVEPNw</td>\n      <td>smallfatant</td>\n      <td>apc74Qh1EZ9YEIOU9ArIeown83KzV3Ebv5mi717QyMlyV7Y</td>\n      <td>EUW1</td>\n      <td>EJQfVTIvnTdaam-Lcn1yp9r2X7QJc1NlOwz5Xj60oVEPNw</td>\n      <td>/v1/stats/player_history/EUW1/39539715</td>\n      <td>4607</td>\n      <td>2020-11-22 13:34:51.578</td>\n    </tr>\n    <tr>\n      <th>78369</th>\n      <td>5</td>\n      <td>100</td>\n      <td>518</td>\n      <td>3</td>\n      <td>12</td>\n      <td>4942070868</td>\n      <td>5</td>\n      <td>1</td>\n      <td>2423</td>\n      <td>3111</td>\n      <td>...</td>\n      <td>Co-op vs. AI Beginner Bot games</td>\n      <td>EUW1</td>\n      <td>x5ERY4ihcqvi8Cx91WdESrZ9paxdmNpClSP5Lx6Mi_VM-g...</td>\n      <td>pjigc</td>\n      <td>n0Q3VsDGRZzkMFWvQeDpThhO098fJi0Pge7ThCTahEFI0w...</td>\n      <td>EUW1</td>\n      <td>x5ERY4ihcqvi8Cx91WdESrZ9paxdmNpClSP5Lx6Mi_VM-g...</td>\n      <td>/v1/stats/player_history/EUW1/2567624771396928</td>\n      <td>3545</td>\n      <td>2020-11-22 13:34:51.578</td>\n    </tr>\n    <tr>\n      <th>78370</th>\n      <td>7</td>\n      <td>200</td>\n      <td>19</td>\n      <td>0</td>\n      <td>0</td>\n      <td>4942070868</td>\n      <td>7</td>\n      <td>0</td>\n      <td>1055</td>\n      <td>1001</td>\n      <td>...</td>\n      <td>Co-op vs. AI Beginner Bot games</td>\n      <td></td>\n      <td>0</td>\n      <td>Warwick</td>\n      <td>None</td>\n      <td>EUW1</td>\n      <td>0</td>\n      <td>/v1/stats/player_history//0</td>\n      <td>0</td>\n      <td>2020-11-22 13:34:51.578</td>\n    </tr>\n    <tr>\n      <th>78371</th>\n      <td>9</td>\n      <td>200</td>\n      <td>44</td>\n      <td>0</td>\n      <td>0</td>\n      <td>4942070868</td>\n      <td>9</td>\n      <td>0</td>\n      <td>3859</td>\n      <td>1001</td>\n      <td>...</td>\n      <td>Co-op vs. AI Beginner Bot games</td>\n      <td></td>\n      <td>0</td>\n      <td>Taric</td>\n      <td>None</td>\n      <td>EUW1</td>\n      <td>0</td>\n      <td>/v1/stats/player_history//0</td>\n      <td>0</td>\n      <td>2020-11-22 13:34:51.578</td>\n    </tr>\n  </tbody>\n</table>\n<p>78372 rows × 163 columns</p>\n</div>"
     },
     "metadata": {},
     "execution_count": 16
    }
   ],
   "source": [
    "df[\"datetime\"] = pd.to_datetime(df[\"gameCreation\"], unit=\"ms\")\n",
    "df"
   ]
  },
  {
   "cell_type": "code",
   "execution_count": 17,
   "metadata": {},
   "outputs": [],
   "source": [
    "df.to_csv(\"./backend/outputs/denormalized_data.csv\")"
   ]
  },
  {
   "source": [
    "## Get data from DBs"
   ],
   "cell_type": "markdown",
   "metadata": {}
  },
  {
   "cell_type": "code",
   "execution_count": null,
   "metadata": {},
   "outputs": [],
   "source": [
    "# Read from DB to dataframe\n",
    "NORMALIZED_DB_PATH = \"./backend/db/data_normalized.db\"\n",
    "\n",
    "nconn = db.create_connection(NORMALIZED_DB_PATH)\n",
    "md = db.read_full_table(nconn, \"match_details\")\n",
    "t = db.read_full_table(nconn, \"teams\")\n",
    "p = db.read_full_table(nconn, \"participants\")\n",
    "pi = db.read_full_table(nconn, \"participant_identities\")\n",
    "db.close_connection(nconn)"
   ]
  },
  {
   "cell_type": "code",
   "execution_count": null,
   "metadata": {},
   "outputs": [],
   "source": [
    "# Add queue and map info\n",
    "ASSETS_PATH = \"./backend/db/assets.db\"\n",
    "\n",
    "aconn = db.create_connection(ASSETS_PATH)\n",
    "qs = db.read_full_table(aconn, \"queues\")\n",
    "db.close_connection(aconn)"
   ]
  },
  {
   "source": [
    "## Match details exploration\n",
    "### Create additional variables "
   ],
   "cell_type": "markdown",
   "metadata": {}
  },
  {
   "cell_type": "code",
   "execution_count": null,
   "metadata": {},
   "outputs": [],
   "source": [
    "# Get date from gameCreation\n",
    "md[\"datetime\"] = pd.to_datetime(md[\"gameCreation\"], unit=\"ms\")\n",
    "\n",
    "# Get approximate match duration\n",
    "md[\"gameDurationMinutes\"] = round(md[\"gameDuration\"] / 60, 0)\n",
    "md[\"gameDurationMinutes\"] = md[\"gameDurationMinutes\"].astype(\"int16\")\n",
    "\n",
    "# Add queue names - NEXUSBLITZ games may be lost as their queue seems to not exists in the queues dataset\n",
    "if not \"queue\" in md.columns:\n",
    "    md = pd.merge(md, qs, on=\"queueId\")\n",
    "\n",
    "md"
   ]
  },
  {
   "source": [
    "### Basic count charts"
   ],
   "cell_type": "markdown",
   "metadata": {}
  },
  {
   "source": [
    "#### gameMode"
   ],
   "cell_type": "markdown",
   "metadata": {}
  },
  {
   "cell_type": "code",
   "execution_count": null,
   "metadata": {},
   "outputs": [],
   "source": [
    "common_args = [\n",
    "    alt.X(\"count():Q\", axis=alt.Axis(grid=True, ticks=True)),\n",
    "]\n",
    "\n",
    "mode_text = alt.Chart().mark_text(dx=10).encode(\n",
    "    *common_args,\n",
    "    alt.Y(\"gameMode:N\"),\n",
    "    alt.Text(\"count():Q\"),\n",
    ")\n",
    "\n",
    "mode_counts = alt.Chart().mark_bar().encode(\n",
    "    *common_args,\n",
    "    alt.Y(\"gameMode:N\"),\n",
    "    alt.Color(\"datetime:N\", timeUnit=\"year\"),\n",
    "    alt.Tooltip(\"count():Q\")\n",
    ")\n",
    "\n",
    "alt.layer(mode_counts, mode_text, data=md)"
   ]
  },
  {
   "cell_type": "code",
   "execution_count": null,
   "metadata": {},
   "outputs": [],
   "source": [
    "alt.layer(mode_counts, mode_text, data=md).facet(\n",
    "    row=alt.Row(\"datetime:N\", timeUnit=\"yearmonth\")\n",
    ")"
   ]
  },
  {
   "cell_type": "code",
   "execution_count": null,
   "metadata": {},
   "outputs": [],
   "source": [
    "alt.Chart(md).mark_tick(width=40, thickness=3).encode(\n",
    "    alt.X(\"gameMode:N\"),\n",
    "    alt.Y(\"gameDurationMinutes:Q\"),\n",
    "    alt.Color(\"count():Q\"),\n",
    "    tooltip=[alt.Tooltip(\"count():Q\"), alt.Tooltip(\"gameDurationMinutes:Q\")]\n",
    ").configure_view(width=350, height=350)"
   ]
  },
  {
   "cell_type": "code",
   "execution_count": null,
   "metadata": {},
   "outputs": [],
   "source": [
    "alt.Chart(md).transform_density(\n",
    "    'gameDurationMinutes',\n",
    "    as_=['gameDurationMinutes', 'density'],\n",
    "    groupby=['gameMode']\n",
    ").mark_area(orient='horizontal').encode(\n",
    "    y='gameDurationMinutes:Q',\n",
    "    color='gameMode:N',\n",
    "    x=alt.X(\n",
    "        'density:Q',\n",
    "        stack='center',\n",
    "        impute=None,\n",
    "        title=None,\n",
    "        axis=alt.Axis(labels=False, values=[0],grid=False, ticks=True),\n",
    "    ),\n",
    "    column=alt.Column(\n",
    "        'gameMode:N',\n",
    "        header=alt.Header(\n",
    "            titleOrient='bottom',\n",
    "            labelOrient='bottom',\n",
    "            labelPadding=0,\n",
    "        ),\n",
    "    )\n",
    ").configure_facet(\n",
    "    spacing=0\n",
    ")"
   ]
  },
  {
   "source": [
    "#### gameDurationMinutes"
   ],
   "cell_type": "markdown",
   "metadata": {}
  },
  {
   "cell_type": "code",
   "execution_count": null,
   "metadata": {},
   "outputs": [],
   "source": [
    "duration_text = alt.Chart().mark_text(dx=10).encode(\n",
    "    *common_args,\n",
    "    alt.Y(\"gameDurationMinutes:N\"),\n",
    "    alt.Text(\"count():Q\"),\n",
    ")\n",
    "\n",
    "duration_counts = alt.Chart().mark_bar().encode(\n",
    "    *common_args,\n",
    "    alt.Y(\"gameDurationMinutes:N\"),\n",
    "    alt.Color(\"datetime:N\", timeUnit=\"year\"),\n",
    "    alt.Tooltip(\"count():Q\")\n",
    ")\n",
    "\n",
    "alt.layer(duration_counts, duration_text, data=md)"
   ]
  },
  {
   "cell_type": "code",
   "execution_count": null,
   "metadata": {},
   "outputs": [],
   "source": [
    "duration_counts = duration_counts.encode(\n",
    "    alt.Color(\"gameMode:N\")\n",
    ")\n",
    "\n",
    "alt.layer(duration_counts, duration_text, data=md)"
   ]
  },
  {
   "source": [
    "#### datetime"
   ],
   "cell_type": "markdown",
   "metadata": {}
  },
  {
   "cell_type": "code",
   "execution_count": null,
   "metadata": {},
   "outputs": [],
   "source": [
    "def datetime_layer_chart(time_unit):\n",
    "    datetime_text = alt.Chart().mark_text(dx=10).encode(\n",
    "        *common_args,\n",
    "        alt.Text(\"count():Q\"),\n",
    "        alt.Y(\"datetime:N\", timeUnit=time_unit)\n",
    "    )\n",
    "\n",
    "    datetime_counts = alt.Chart().mark_bar().encode(\n",
    "        *common_args,\n",
    "        alt.Y(\"datetime:N\", timeUnit=time_unit)\n",
    "    )\n",
    "\n",
    "    return alt.layer(datetime_counts, datetime_text, data=md)\n",
    "\n",
    "datetime_layer_chart(\"year\")"
   ]
  },
  {
   "cell_type": "code",
   "execution_count": null,
   "metadata": {},
   "outputs": [],
   "source": [
    "datetime_layer_chart(\"yearmonth\")"
   ]
  },
  {
   "cell_type": "code",
   "execution_count": null,
   "metadata": {},
   "outputs": [],
   "source": [
    "datetime_layer_chart(\"day\")"
   ]
  },
  {
   "cell_type": "code",
   "execution_count": null,
   "metadata": {},
   "outputs": [],
   "source": [
    "datetime_layer_chart(\"hours\")"
   ]
  },
  {
   "cell_type": "code",
   "execution_count": null,
   "metadata": {},
   "outputs": [],
   "source": [
    "alt.Chart(md).mark_circle().encode(\n",
    "    alt.X(\"datetime:T\", timeUnit=\"hoursminutes\"),\n",
    "    alt.Y(\"gameDurationMinutes:Q\"),\n",
    "    #alt.Color(\"datetime:N\", timeUnit=\"day\"),\n",
    "    #alt.Size(\"count()\"),\n",
    "    tooltip=[alt.Tooltip(\"datetime:T\", timeUnit=\"hoursminutes\"),\n",
    "        alt.Tooltip(\"gameDurationMinutes:Q\")],\n",
    ")"
   ]
  },
  {
   "cell_type": "code",
   "execution_count": null,
   "metadata": {},
   "outputs": [],
   "source": [
    "hm = alt.Chart(md).mark_rect().encode(\n",
    "    alt.X(\"datetime:O\", timeUnit=\"day\"),\n",
    "    alt.Y(\"gameMode:O\"),\n",
    "    alt.Color(\"count()\")\n",
    ")\n",
    "\n",
    "text = alt.Chart(md).mark_text().encode(\n",
    "    alt.X(\"datetime:O\", timeUnit=\"day\"),\n",
    "    alt.Y(\"gameMode:O\"),\n",
    "    alt.Text(\"count()\")\n",
    ")\n",
    "\n",
    "(hm + text).configure_view(width=400, height=200)"
   ]
  },
  {
   "source": [
    "### Maps"
   ],
   "cell_type": "markdown",
   "metadata": {}
  },
  {
   "cell_type": "code",
   "execution_count": null,
   "metadata": {},
   "outputs": [],
   "source": [
    "alt.Chart(md).mark_bar().encode(\n",
    "    alt.X(\"map:N\"),\n",
    "    alt.Y(\"count():Q\")\n",
    ").configure_view(width=200)"
   ]
  },
  {
   "cell_type": "code",
   "execution_count": null,
   "metadata": {},
   "outputs": [],
   "source": [
    "lines = alt.Chart(md).mark_line(point=True).encode(\n",
    "    alt.X(\"datetime:T\", timeUnit=\"yearmonth\"),\n",
    "    alt.Y(\"count():Q\"),\n",
    "    alt.Color(\"map:N\"),\n",
    "    alt.Tooltip(\"count():Q\")\n",
    ") \n",
    "bars = alt.Chart(md).transform_calculate(diff=\"datum.map == 'Howling Abyss' ? 1 : -1\").mark_bar().encode(\n",
    "    alt.X(\"datetime:T\", timeUnit=\"yearmonth\"),\n",
    "    alt.Y(\"sum(diff):Q\"),\n",
    "    alt.Tooltip(\"sum(diff):Q\")\n",
    ")\n",
    "\n",
    "lines & bars"
   ]
  },
  {
   "source": [
    "#### Queues"
   ],
   "cell_type": "markdown",
   "metadata": {}
  },
  {
   "cell_type": "code",
   "execution_count": null,
   "metadata": {},
   "outputs": [],
   "source": [
    "alt.Chart(md).mark_circle(size=50).encode(\n",
    "    alt.Y(\"queue:N\"),\n",
    "    alt.X(\"gameDurationMinutes:Q\"),\n",
    "    alt.Color(\"count():Q\"),\n",
    "    alt.Tooltip(\"count():Q\")\n",
    ").configure_view(height=300, width=500)"
   ]
  },
  {
   "cell_type": "code",
   "execution_count": null,
   "metadata": {},
   "outputs": [],
   "source": [
    "squares = alt.Chart(md).mark_rect().encode(\n",
    "    alt.X(\"datetime:N\", timeUnit=\"day\"),\n",
    "    alt.Y(\"queue:N\"),\n",
    "    alt.Color(\"count():Q\"),\n",
    "    alt.Tooltip(\"count():Q\"),\n",
    ")\n",
    "\n",
    "text = alt.Chart(md).mark_text().encode(\n",
    "    alt.X(\"datetime:N\", timeUnit=\"day\"),\n",
    "    alt.Y(\"queue:N\"),\n",
    "    alt.Text(\"count():Q\")\n",
    ")\n",
    "\n",
    "(squares + text).configure_view(height=300, width=350)"
   ]
  },
  {
   "source": [
    "## Participants exploration"
   ],
   "cell_type": "markdown",
   "metadata": {}
  },
  {
   "cell_type": "code",
   "execution_count": null,
   "metadata": {},
   "outputs": [],
   "source": [
    "TBC"
   ]
  }
 ],
 "metadata": {
  "kernelspec": {
   "name": "python3",
   "display_name": "Python 3.7.4 64-bit ('lol-match-data-exploration': pipenv)",
   "metadata": {
    "interpreter": {
     "hash": "dba793083f428c0b7ca7bae23365450deed0c0f6db3e90f53c7c17f48f0f7672"
    }
   }
  },
  "language_info": {
   "codemirror_mode": {
    "name": "ipython",
    "version": 3
   },
   "file_extension": ".py",
   "mimetype": "text/x-python",
   "name": "python",
   "nbconvert_exporter": "python",
   "pygments_lexer": "ipython3",
   "version": "3.7.4-final"
  }
 },
 "nbformat": 4,
 "nbformat_minor": 2
}