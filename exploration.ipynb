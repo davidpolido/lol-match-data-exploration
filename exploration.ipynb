{
 "cells": [
  {
   "cell_type": "markdown",
   "metadata": {},
   "source": [
    "# LoL Stats Visualization"
   ]
  },
  {
   "cell_type": "code",
   "execution_count": null,
   "metadata": {},
   "outputs": [],
   "source": [
    "import backend.downloader as dl\n",
    "import backend.assets as assets\n",
    "import backend.db as db\n",
    "import pandas as pd\n",
    "import altair as alt"
   ]
  },
  {
   "source": [
    "## Download data"
   ],
   "cell_type": "markdown",
   "metadata": {}
  },
  {
   "cell_type": "code",
   "execution_count": null,
   "metadata": {},
   "outputs": [],
   "source": [
    "SUMMONERS = [\"SUMMONER_NAME\"]\n",
    "\n",
    "dl.get_data(SUMMONERS, mode=\"update\")"
   ]
  },
  {
   "cell_type": "code",
   "execution_count": null,
   "metadata": {},
   "outputs": [],
   "source": [
    "assets.update_all()"
   ]
  },
  {
   "source": [
    "## Get data from DBs"
   ],
   "cell_type": "markdown",
   "metadata": {}
  },
  {
   "cell_type": "code",
   "execution_count": null,
   "metadata": {},
   "outputs": [],
   "source": [
    "# Read from DB to dataframe\n",
    "NORMALIZED_DB_PATH = \"./backend/db/data_normalized.db\"\n",
    "\n",
    "nconn = db.create_connection(NORMALIZED_DB_PATH)\n",
    "md = db.read_full_table(nconn, \"match_details\")\n",
    "t = db.read_full_table(nconn, \"teams\")\n",
    "p = db.read_full_table(nconn, \"participants\")\n",
    "pi = db.read_full_table(nconn, \"participant_identities\")\n",
    "db.close_connection(nconn)"
   ]
  },
  {
   "cell_type": "code",
   "execution_count": null,
   "metadata": {},
   "outputs": [],
   "source": [
    "# Add queue and map info\n",
    "ASSETS_PATH = \"./backend/db/assets.db\"\n",
    "\n",
    "aconn = db.create_connection(ASSETS_PATH)\n",
    "qs = db.read_full_table(aconn, \"queues\")\n",
    "db.close_connection(aconn)"
   ]
  },
  {
   "source": [
    "## Match details exploration\n",
    "### Create additional variables "
   ],
   "cell_type": "markdown",
   "metadata": {}
  },
  {
   "cell_type": "code",
   "execution_count": null,
   "metadata": {},
   "outputs": [],
   "source": [
    "# Get date from gameCreation\n",
    "md[\"datetime\"] = pd.to_datetime(md[\"gameCreation\"], unit=\"ms\")\n",
    "\n",
    "# Get approximate match duration\n",
    "md[\"gameDurationMinutes\"] = round(md[\"gameDuration\"] / 60, 0)\n",
    "md[\"gameDurationMinutes\"] = md[\"gameDurationMinutes\"].astype(\"int16\")\n",
    "\n",
    "# Add queue names - NEXUSBLITZ games may be lost as their queue seems to not exists in the queues dataset\n",
    "if not \"queue\" in md.columns:\n",
    "    md = pd.merge(md, qs, on=\"queueId\")\n",
    "\n",
    "md"
   ]
  },
  {
   "source": [
    "### Basic count charts"
   ],
   "cell_type": "markdown",
   "metadata": {}
  },
  {
   "source": [
    "#### gameMode"
   ],
   "cell_type": "markdown",
   "metadata": {}
  },
  {
   "cell_type": "code",
   "execution_count": null,
   "metadata": {},
   "outputs": [],
   "source": [
    "common_args = [\n",
    "    alt.X(\"count():Q\", axis=alt.Axis(grid=True, ticks=True)),\n",
    "]\n",
    "\n",
    "mode_text = alt.Chart().mark_text(dx=10).encode(\n",
    "    *common_args,\n",
    "    alt.Y(\"gameMode:N\"),\n",
    "    alt.Text(\"count():Q\"),\n",
    ")\n",
    "\n",
    "mode_counts = alt.Chart().mark_bar().encode(\n",
    "    *common_args,\n",
    "    alt.Y(\"gameMode:N\"),\n",
    "    alt.Color(\"datetime:N\", timeUnit=\"year\"),\n",
    "    alt.Tooltip(\"count():Q\")\n",
    ")\n",
    "\n",
    "alt.layer(mode_counts, mode_text, data=md)"
   ]
  },
  {
   "cell_type": "code",
   "execution_count": null,
   "metadata": {},
   "outputs": [],
   "source": [
    "alt.layer(mode_counts, mode_text, data=md).facet(\n",
    "    row=alt.Row(\"datetime:N\", timeUnit=\"yearmonth\")\n",
    ")"
   ]
  },
  {
   "cell_type": "code",
   "execution_count": null,
   "metadata": {},
   "outputs": [],
   "source": [
    "alt.Chart(md).mark_tick(width=40, thickness=3).encode(\n",
    "    alt.X(\"gameMode:N\"),\n",
    "    alt.Y(\"gameDurationMinutes:Q\"),\n",
    "    alt.Color(\"count():Q\"),\n",
    "    tooltip=[alt.Tooltip(\"count():Q\"), alt.Tooltip(\"gameDurationMinutes:Q\")]\n",
    ").configure_view(width=350, height=350)"
   ]
  },
  {
   "cell_type": "code",
   "execution_count": null,
   "metadata": {},
   "outputs": [],
   "source": [
    "alt.Chart(md).transform_density(\n",
    "    'gameDurationMinutes',\n",
    "    as_=['gameDurationMinutes', 'density'],\n",
    "    groupby=['gameMode']\n",
    ").mark_area(orient='horizontal').encode(\n",
    "    y='gameDurationMinutes:Q',\n",
    "    color='gameMode:N',\n",
    "    x=alt.X(\n",
    "        'density:Q',\n",
    "        stack='center',\n",
    "        impute=None,\n",
    "        title=None,\n",
    "        axis=alt.Axis(labels=False, values=[0],grid=False, ticks=True),\n",
    "    ),\n",
    "    column=alt.Column(\n",
    "        'gameMode:N',\n",
    "        header=alt.Header(\n",
    "            titleOrient='bottom',\n",
    "            labelOrient='bottom',\n",
    "            labelPadding=0,\n",
    "        ),\n",
    "    )\n",
    ").configure_facet(\n",
    "    spacing=0\n",
    ")"
   ]
  },
  {
   "source": [
    "#### gameDurationMinutes"
   ],
   "cell_type": "markdown",
   "metadata": {}
  },
  {
   "cell_type": "code",
   "execution_count": null,
   "metadata": {},
   "outputs": [],
   "source": [
    "duration_text = alt.Chart().mark_text(dx=10).encode(\n",
    "    *common_args,\n",
    "    alt.Y(\"gameDurationMinutes:N\"),\n",
    "    alt.Text(\"count():Q\"),\n",
    ")\n",
    "\n",
    "duration_counts = alt.Chart().mark_bar().encode(\n",
    "    *common_args,\n",
    "    alt.Y(\"gameDurationMinutes:N\"),\n",
    "    alt.Color(\"datetime:N\", timeUnit=\"year\"),\n",
    "    alt.Tooltip(\"count():Q\")\n",
    ")\n",
    "\n",
    "alt.layer(duration_counts, duration_text, data=md)"
   ]
  },
  {
   "cell_type": "code",
   "execution_count": null,
   "metadata": {},
   "outputs": [],
   "source": [
    "duration_counts = duration_counts.encode(\n",
    "    alt.Color(\"gameMode:N\")\n",
    ")\n",
    "\n",
    "alt.layer(duration_counts, duration_text, data=md)"
   ]
  },
  {
   "source": [
    "#### datetime"
   ],
   "cell_type": "markdown",
   "metadata": {}
  },
  {
   "cell_type": "code",
   "execution_count": null,
   "metadata": {},
   "outputs": [],
   "source": [
    "def datetime_layer_chart(time_unit):\n",
    "    datetime_text = alt.Chart().mark_text(dx=10).encode(\n",
    "        *common_args,\n",
    "        alt.Text(\"count():Q\"),\n",
    "        alt.Y(\"datetime:N\", timeUnit=time_unit)\n",
    "    )\n",
    "\n",
    "    datetime_counts = alt.Chart().mark_bar().encode(\n",
    "        *common_args,\n",
    "        alt.Y(\"datetime:N\", timeUnit=time_unit)\n",
    "    )\n",
    "\n",
    "    return alt.layer(datetime_counts, datetime_text, data=md)\n",
    "\n",
    "datetime_layer_chart(\"year\")"
   ]
  },
  {
   "cell_type": "code",
   "execution_count": null,
   "metadata": {},
   "outputs": [],
   "source": [
    "datetime_layer_chart(\"yearmonth\")"
   ]
  },
  {
   "cell_type": "code",
   "execution_count": null,
   "metadata": {},
   "outputs": [],
   "source": [
    "datetime_layer_chart(\"day\")"
   ]
  },
  {
   "cell_type": "code",
   "execution_count": null,
   "metadata": {},
   "outputs": [],
   "source": [
    "datetime_layer_chart(\"hours\")"
   ]
  },
  {
   "cell_type": "code",
   "execution_count": null,
   "metadata": {},
   "outputs": [],
   "source": [
    "alt.Chart(md).mark_circle().encode(\n",
    "    alt.X(\"datetime:T\", timeUnit=\"hoursminutes\"),\n",
    "    alt.Y(\"gameDurationMinutes:Q\"),\n",
    "    #alt.Color(\"datetime:N\", timeUnit=\"day\"),\n",
    "    #alt.Size(\"count()\"),\n",
    "    tooltip=[alt.Tooltip(\"datetime:T\", timeUnit=\"hoursminutes\"),\n",
    "        alt.Tooltip(\"gameDurationMinutes:Q\")],\n",
    ")"
   ]
  },
  {
   "cell_type": "code",
   "execution_count": null,
   "metadata": {},
   "outputs": [],
   "source": [
    "hm = alt.Chart(md).mark_rect().encode(\n",
    "    alt.X(\"datetime:O\", timeUnit=\"day\"),\n",
    "    alt.Y(\"gameMode:O\"),\n",
    "    alt.Color(\"count()\")\n",
    ")\n",
    "\n",
    "text = alt.Chart(md).mark_text().encode(\n",
    "    alt.X(\"datetime:O\", timeUnit=\"day\"),\n",
    "    alt.Y(\"gameMode:O\"),\n",
    "    alt.Text(\"count()\")\n",
    ")\n",
    "\n",
    "(hm + text).configure_view(width=400, height=200)"
   ]
  },
  {
   "source": [
    "### Maps"
   ],
   "cell_type": "markdown",
   "metadata": {}
  },
  {
   "cell_type": "code",
   "execution_count": null,
   "metadata": {},
   "outputs": [],
   "source": [
    "alt.Chart(md).mark_bar().encode(\n",
    "    alt.X(\"map:N\"),\n",
    "    alt.Y(\"count():Q\")\n",
    ").configure_view(width=200)"
   ]
  },
  {
   "cell_type": "code",
   "execution_count": null,
   "metadata": {},
   "outputs": [],
   "source": [
    "lines = alt.Chart(md).mark_line(point=True).encode(\n",
    "    alt.X(\"datetime:T\", timeUnit=\"yearmonth\"),\n",
    "    alt.Y(\"count():Q\"),\n",
    "    alt.Color(\"map:N\"),\n",
    "    alt.Tooltip(\"count():Q\")\n",
    ") \n",
    "bars = alt.Chart(md).transform_calculate(diff=\"datum.map == 'Howling Abyss' ? 1 : -1\").mark_bar().encode(\n",
    "    alt.X(\"datetime:T\", timeUnit=\"yearmonth\"),\n",
    "    alt.Y(\"sum(diff):Q\"),\n",
    "    alt.Tooltip(\"sum(diff):Q\")\n",
    ")\n",
    "\n",
    "lines & bars"
   ]
  },
  {
   "source": [
    "#### Queues"
   ],
   "cell_type": "markdown",
   "metadata": {}
  },
  {
   "cell_type": "code",
   "execution_count": null,
   "metadata": {},
   "outputs": [],
   "source": [
    "alt.Chart(md).mark_circle(size=50).encode(\n",
    "    alt.Y(\"queue:N\"),\n",
    "    alt.X(\"gameDurationMinutes:Q\"),\n",
    "    alt.Color(\"count():Q\"),\n",
    "    alt.Tooltip(\"count():Q\")\n",
    ").configure_view(height=300, width=500)"
   ]
  },
  {
   "cell_type": "code",
   "execution_count": null,
   "metadata": {},
   "outputs": [],
   "source": [
    "squares = alt.Chart(md).mark_rect().encode(\n",
    "    alt.X(\"datetime:N\", timeUnit=\"day\"),\n",
    "    alt.Y(\"queue:N\"),\n",
    "    alt.Color(\"count():Q\"),\n",
    "    alt.Tooltip(\"count():Q\"),\n",
    ")\n",
    "\n",
    "text = alt.Chart(md).mark_text().encode(\n",
    "    alt.X(\"datetime:N\", timeUnit=\"day\"),\n",
    "    alt.Y(\"queue:N\"),\n",
    "    alt.Text(\"count():Q\")\n",
    ")\n",
    "\n",
    "(squares + text).configure_view(height=300, width=350)"
   ]
  },
  {
   "source": [
    "## Participants exploration"
   ],
   "cell_type": "markdown",
   "metadata": {}
  },
  {
   "cell_type": "code",
   "execution_count": null,
   "metadata": {},
   "outputs": [],
   "source": [
    "TBC"
   ]
  }
 ],
 "metadata": {
  "kernelspec": {
   "name": "Python 3.8.5 64-bit ('lol-match-data-exploration': conda)",
   "display_name": "Python 3.8.5 64-bit ('lol-match-data-exploration': conda)",
   "metadata": {
    "interpreter": {
     "hash": "252c17a0bd57cc2a1ebe92781e30ca6058d729e277027c15a8e62c3bfc2c2188"
    }
   }
  },
  "language_info": {
   "codemirror_mode": {
    "name": "ipython",
    "version": 3
   },
   "file_extension": ".py",
   "mimetype": "text/x-python",
   "name": "python",
   "nbconvert_exporter": "python",
   "pygments_lexer": "ipython3",
   "version": "3.8.5-final"
  }
 },
 "nbformat": 4,
 "nbformat_minor": 2
}